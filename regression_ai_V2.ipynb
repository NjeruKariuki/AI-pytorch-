{
 "cells": [
  {
   "cell_type": "code",
   "execution_count": 31,
   "metadata": {},
   "outputs": [],
   "source": [
    "#### Linear regression model using nn.Linear \n",
    "### pytorch modelling exercise"
   ]
  },
  {
   "cell_type": "code",
   "execution_count": 32,
   "metadata": {},
   "outputs": [
    {
     "name": "stdout",
     "output_type": "stream",
     "text": [
      "1.13.0+cpu\n"
     ]
    }
   ],
   "source": [
    "import torch\n",
    "import matplotlib.pyplot as plt\n",
    "from torch import nn\n",
    "\n",
    "print(torch.__version__)"
   ]
  },
  {
   "cell_type": "code",
   "execution_count": 33,
   "metadata": {},
   "outputs": [
    {
     "name": "stdout",
     "output_type": "stream",
     "text": [
      "using device: cpu\n"
     ]
    }
   ],
   "source": [
    "###device agnostic \n",
    "\n",
    "device = \"cuda\" if torch.cuda.is_available() else \"cpu\"\n",
    "print(f\"using device: {device}\")"
   ]
  },
  {
   "cell_type": "code",
   "execution_count": 34,
   "metadata": {},
   "outputs": [],
   "source": [
    "### creating data frames\n",
    "### atleast 100 data points\n",
    "\n",
    "weight = 0.9\n",
    "bias = 0.3\n",
    "\n",
    "start, end, step = 0, 1, 0.005\n",
    "\n",
    "x = torch.arange(start, end, step).unsqueeze(dim=1) #created 200 data points"
   ]
  },
  {
   "cell_type": "code",
   "execution_count": 35,
   "metadata": {},
   "outputs": [
    {
     "data": {
      "text/plain": [
       "(160, 160, 40, 40)"
      ]
     },
     "execution_count": 35,
     "metadata": {},
     "output_type": "execute_result"
    }
   ],
   "source": [
    "#### creating training and test data (separately)\n",
    "train_data = int(0.8 * len(x))\n",
    "\n",
    "x_train, y_train = x[:train_data], x[:train_data]\n",
    "x_test, y_test = x[train_data:], x[train_data:]\n",
    "\n",
    "len(x_train), len(y_train), len(x_test), len(y_test)"
   ]
  },
  {
   "cell_type": "code",
   "execution_count": 36,
   "metadata": {},
   "outputs": [
    {
     "data": {
      "image/png": "[encoded data removed]",
      "text/plain": [
       "<Figure size 1000x700 with 1 Axes>"
      ]
     },
     "metadata": {},
     "output_type": "display_data"
    }
   ],
   "source": [
    "### plot the data\n",
    "\n",
    "def plot_predictions(x_train = x_train, x_test = x_test, y_train = y_train, y_test=y_test, predictions=None):\n",
    "    plt.figure(figsize=(10, 7))\n",
    "    plt.scatter(x_train, y_train, c='b', s=4, label='training data')\n",
    "    plt.scatter(x_test, y_test, c='g',s=4, label='test data')\n",
    "    \n",
    "    #if predictions not None, plot predictions\n",
    "    if predictions is not None:\n",
    "        plt.scatter(x_test, predictions, c='r',s=4, label='predictions data') #in red\n",
    "\n",
    "    plt.legend();\n",
    "\n",
    "plot_predictions()"
   ]
  },
  {
   "cell_type": "code",
   "execution_count": 37,
   "metadata": {},
   "outputs": [
    {
     "data": {
      "text/plain": [
       "OrderedDict([('linear_layer.weight', tensor([[-0.0075]])),\n",
       "             ('linear_layer.bias', tensor([0.5364]))])"
      ]
     },
     "execution_count": 37,
     "metadata": {},
     "output_type": "execute_result"
    }
   ],
   "source": [
    "### create model with nn.Linear \n",
    "\n",
    "\n",
    "class LinearRegressionModelV2(nn.Module):\n",
    "    def __init__(self):\n",
    "        super().__init__()\n",
    "        ## using nn.Linear() to create model parameters\n",
    "        self.linear_layer = nn.Linear(in_features=1, out_features=1)\n",
    "\n",
    "    def forward(self, x: torch.Tensor) -> torch.Tensor:\n",
    "        return self.linear_layer(x)  #calculates y = x* weights + bias\n",
    "\n",
    "\n",
    "##creating instance of model\n",
    "torch.manual_seed(0) \n",
    "model_1 = LinearRegressionModelV2()  # initialize model with random parameters\n",
    "model_1.state_dict()"
   ]
  },
  {
   "cell_type": "code",
   "execution_count": 38,
   "metadata": {},
   "outputs": [
    {
     "data": {
      "text/plain": [
       "device(type='cpu')"
      ]
     },
     "execution_count": 38,
     "metadata": {},
     "output_type": "execute_result"
    }
   ],
   "source": [
    "### change model to available device\n",
    "model_1.to(device)\n",
    "next(model_1.parameters()).device"
   ]
  },
  {
   "cell_type": "code",
   "execution_count": 39,
   "metadata": {},
   "outputs": [
    {
     "name": "stdout",
     "output_type": "stream",
     "text": [
      "Epoch: 0, Train Loss: 0.22443461418151855, Test Loss: 0.3707643151283264\n",
      "Epoch: 20, Train Loss: 0.20797988772392273, Test Loss: 0.41060638427734375\n",
      "Epoch: 40, Train Loss: 0.19826392829418182, Test Loss: 0.42508190870285034\n",
      "Epoch: 60, Train Loss: 0.19055047631263733, Test Loss: 0.42577090859413147\n",
      "Epoch: 80, Train Loss: 0.18345768749713898, Test Loss: 0.418759822845459\n",
      "Epoch: 100, Train Loss: 0.17654548585414886, Test Loss: 0.40739917755126953\n",
      "Epoch: 120, Train Loss: 0.16968049108982086, Test Loss: 0.3936116099357605\n",
      "Epoch: 140, Train Loss: 0.16283904016017914, Test Loss: 0.3782649338245392\n",
      "Epoch: 160, Train Loss: 0.1559976041316986, Test Loss: 0.36291831731796265\n",
      "Epoch: 180, Train Loss: 0.14915618300437927, Test Loss: 0.3475717008113861\n",
      "Epoch: 200, Train Loss: 0.14231474697589874, Test Loss: 0.3322250247001648\n",
      "Epoch: 220, Train Loss: 0.13547329604625702, Test Loss: 0.31687843799591064\n",
      "Epoch: 240, Train Loss: 0.1286318600177765, Test Loss: 0.3015317916870117\n",
      "Epoch: 260, Train Loss: 0.12179199606180191, Test Loss: 0.2854944169521332\n",
      "Epoch: 280, Train Loss: 0.11495210975408554, Test Loss: 0.26945704221725464\n",
      "Epoch: 300, Train Loss: 0.10811223834753036, Test Loss: 0.2534196078777313\n",
      "Epoch: 320, Train Loss: 0.10127248615026474, Test Loss: 0.2372095137834549\n",
      "Epoch: 340, Train Loss: 0.09443292766809464, Test Loss: 0.22117221355438232\n",
      "Epoch: 360, Train Loss: 0.08759307116270065, Test Loss: 0.20513491332530975\n",
      "Epoch: 380, Train Loss: 0.08075322955846786, Test Loss: 0.1890975683927536\n",
      "Epoch: 400, Train Loss: 0.07391361147165298, Test Loss: 0.17288760840892792\n",
      "Epoch: 420, Train Loss: 0.06707391887903214, Test Loss: 0.15685029327869415\n",
      "Epoch: 440, Train Loss: 0.06023406982421875, Test Loss: 0.1408129781484604\n",
      "Epoch: 460, Train Loss: 0.05339423567056656, Test Loss: 0.12477554380893707\n",
      "Epoch: 480, Train Loss: 0.046554744243621826, Test Loss: 0.10856544971466064\n",
      "Epoch: 500, Train Loss: 0.03971494361758232, Test Loss: 0.09252802282571793\n",
      "Epoch: 520, Train Loss: 0.03287510201334953, Test Loss: 0.07649058848619461\n",
      "Epoch: 540, Train Loss: 0.026035267859697342, Test Loss: 0.060453206300735474\n",
      "Epoch: 560, Train Loss: 0.019195813685655594, Test Loss: 0.04424311965703964\n",
      "Epoch: 580, Train Loss: 0.012355959042906761, Test Loss: 0.0282057486474514\n",
      "Epoch: 600, Train Loss: 0.005516124423593283, Test Loss: 0.012168374843895435\n",
      "Epoch: 620, Train Loss: 0.007482470478862524, Test Loss: 0.0019343539606779814\n",
      "Epoch: 640, Train Loss: 0.007482470478862524, Test Loss: 0.0019343539606779814\n",
      "Epoch: 660, Train Loss: 0.007482470478862524, Test Loss: 0.0019343539606779814\n",
      "Epoch: 680, Train Loss: 0.007482470478862524, Test Loss: 0.0019343539606779814\n",
      "Epoch: 700, Train Loss: 0.007482470478862524, Test Loss: 0.0019343539606779814\n",
      "Epoch: 720, Train Loss: 0.007482470478862524, Test Loss: 0.0019343539606779814\n",
      "Epoch: 740, Train Loss: 0.007482470478862524, Test Loss: 0.0019343539606779814\n",
      "Epoch: 760, Train Loss: 0.007482470478862524, Test Loss: 0.0019343539606779814\n",
      "Epoch: 780, Train Loss: 0.007482470478862524, Test Loss: 0.0019343539606779814\n",
      "Epoch: 800, Train Loss: 0.007482470478862524, Test Loss: 0.0019343539606779814\n",
      "Epoch: 820, Train Loss: 0.007482470478862524, Test Loss: 0.0019343539606779814\n",
      "Epoch: 840, Train Loss: 0.007482470478862524, Test Loss: 0.0019343539606779814\n",
      "Epoch: 860, Train Loss: 0.007482470478862524, Test Loss: 0.0019343539606779814\n",
      "Epoch: 880, Train Loss: 0.007482470478862524, Test Loss: 0.0019343539606779814\n",
      "Epoch: 900, Train Loss: 0.007482470478862524, Test Loss: 0.0019343539606779814\n",
      "Epoch: 920, Train Loss: 0.007482470478862524, Test Loss: 0.0019343539606779814\n",
      "Epoch: 940, Train Loss: 0.007482470478862524, Test Loss: 0.0019343539606779814\n",
      "Epoch: 960, Train Loss: 0.007482470478862524, Test Loss: 0.0019343539606779814\n",
      "Epoch: 980, Train Loss: 0.007482470478862524, Test Loss: 0.0019343539606779814\n"
     ]
    }
   ],
   "source": [
    "### TRaining and testing\n",
    "learning_rate = 0.01\n",
    "\n",
    "#### loss function \n",
    "loss_fn = nn.L1Loss()\n",
    "\n",
    "##optimizer \n",
    "optimizer = torch.optim.SGD(params=model_1.parameters(), lr=learning_rate)\n",
    "\n",
    "\n",
    "##training \n",
    "\n",
    "#epochs \n",
    "epochs = 1000\n",
    "\n",
    "#vars\n",
    "epoch_count, test_loss_values, train_loss_values = [], [], []\n",
    "\n",
    "for epoch in range(epochs):\n",
    "    model_1.train()  #training mode \n",
    "\n",
    "    #forward pass\n",
    "    y_preds = model_1(x_train)\n",
    "\n",
    "    #calculate loss\n",
    "    loss = loss_fn(y_preds, y_train)\n",
    "\n",
    "    #no grad\n",
    "    optimizer.zero_grad()\n",
    "\n",
    "    #backpropagation\n",
    "    loss.backward()\n",
    "\n",
    "    #step the optimizer\n",
    "    optimizer.step()\n",
    "\n",
    "    ####TESTING \n",
    "    model_1.eval() #evaluation mode\n",
    "\n",
    "    #forward pass\n",
    "    with torch.inference_mode():\n",
    "\n",
    "        y_pred_test = model_1(x_test)\n",
    "\n",
    "        #loss calculation\n",
    "        test_loss = loss_fn(y_pred_test, y_test)\n",
    "\n",
    "    if epoch % 20 == 0:\n",
    "        epoch_count.append(epoch)\n",
    "        train_loss_values.append(loss.detach().numpy())\n",
    "        test_loss_values.append(test_loss.detach().numpy())\n",
    "        print(f\"Epoch: {epoch}, Train Loss: {loss}, Test Loss: {test_loss}\")"
   ]
  },
  {
   "cell_type": "code",
   "execution_count": 40,
   "metadata": {},
   "outputs": [
    {
     "data": {
      "image/png": "[encoded data removed]",
      "text/plain": [
       "<Figure size 640x480 with 1 Axes>"
      ]
     },
     "metadata": {},
     "output_type": "display_data"
    }
   ],
   "source": [
    "### plot predictions\n",
    "plt.plot(epoch_count, train_loss_values, label = \"train loss\")\n",
    "plt.plot(epoch_count, test_loss_values, label = \"test loss\")\n",
    "plt.title(\"Training and test loss curves\")\n",
    "plt.ylabel(\"Loss\")\n",
    "plt.xlabel(\"Epochs\")\n",
    "plt.legend();"
   ]
  },
  {
   "cell_type": "code",
   "execution_count": 41,
   "metadata": {},
   "outputs": [
    {
     "name": "stdout",
     "output_type": "stream",
     "text": [
      "The model learned the following values for weights and bias:\n",
      "OrderedDict([('linear_layer.weight', tensor([[0.9917]])), ('linear_layer.bias', tensor([-0.0042]))])\n",
      "\n",
      "And the original values for weights and bias are:\n",
      "weights: 0.9, bias: 0.3\n"
     ]
    }
   ],
   "source": [
    "# Find our model's learned parameters\n",
    "print(\"The model learned the following values for weights and bias:\")\n",
    "print(model_1.state_dict())\n",
    "print(\"\\nAnd the original values for weights and bias are:\")\n",
    "print(f\"weights: {weight}, bias: {bias}\")"
   ]
  },
  {
   "cell_type": "code",
   "execution_count": 42,
   "metadata": {},
   "outputs": [
    {
     "data": {
      "image/png": "[encoded data removed]",
      "text/plain": [
       "<Figure size 1000x700 with 1 Axes>"
      ]
     },
     "metadata": {},
     "output_type": "display_data"
    }
   ],
   "source": [
    "## testing our predictions\n",
    "\n",
    "with torch.inference_mode():\n",
    "    y_preds = model_1(x_test)\n",
    "\n",
    "plot_predictions(predictions= y_preds)"
   ]
  },
  {
   "cell_type": "code",
   "execution_count": 43,
   "metadata": {},
   "outputs": [
    {
     "name": "stdout",
     "output_type": "stream",
     "text": [
      "saving model to: models\\LinearRegressionModelV2.pth\n"
     ]
    }
   ],
   "source": [
    "from pathlib import Path\n",
    "\n",
    "##saving my model\n",
    "MODEL_PATH = Path(\"models\")\n",
    "MODEL_PATH.mkdir(parents=True, exist_ok=True)\n",
    "\n",
    "MODEL_NAME = \"LinearRegressionModelV2.pth\"\n",
    "MODEL_SAVE_PATH = MODEL_PATH / MODEL_NAME\n",
    "\n",
    "#SAVE MODEL\n",
    "print(f\"saving model to: {MODEL_SAVE_PATH}\")\n",
    "torch.save(obj=model_1.state_dict(), f=MODEL_SAVE_PATH)\n",
    "\n"
   ]
  },
  {
   "cell_type": "code",
   "execution_count": 44,
   "metadata": {},
   "outputs": [
    {
     "name": "stdout",
     "output_type": "stream",
     "text": [
      "loaded model: [Parameter containing:\n",
      "tensor([[0.9917]], requires_grad=True), Parameter containing:\n",
      "tensor([-0.0042], requires_grad=True)]\n"
     ]
    }
   ],
   "source": [
    "###loading our model\n",
    "loaded_model_1 = LinearRegressionModelV2()\n",
    "\n",
    "##update parameters\n",
    "loaded_model_1.load_state_dict(torch.load(MODEL_SAVE_PATH))\n",
    "\n",
    "print(f\"loaded model: {list(loaded_model_1.parameters())}\")"
   ]
  },
  {
   "cell_type": "code",
   "execution_count": 45,
   "metadata": {},
   "outputs": [
    {
     "data": {
      "text/plain": [
       "tensor([[True],\n",
       "        [True],\n",
       "        [True],\n",
       "        [True],\n",
       "        [True],\n",
       "        [True],\n",
       "        [True],\n",
       "        [True],\n",
       "        [True],\n",
       "        [True],\n",
       "        [True],\n",
       "        [True],\n",
       "        [True],\n",
       "        [True],\n",
       "        [True],\n",
       "        [True],\n",
       "        [True],\n",
       "        [True],\n",
       "        [True],\n",
       "        [True],\n",
       "        [True],\n",
       "        [True],\n",
       "        [True],\n",
       "        [True],\n",
       "        [True],\n",
       "        [True],\n",
       "        [True],\n",
       "        [True],\n",
       "        [True],\n",
       "        [True],\n",
       "        [True],\n",
       "        [True],\n",
       "        [True],\n",
       "        [True],\n",
       "        [True],\n",
       "        [True],\n",
       "        [True],\n",
       "        [True],\n",
       "        [True],\n",
       "        [True]])"
      ]
     },
     "execution_count": 45,
     "metadata": {},
     "output_type": "execute_result"
    }
   ],
   "source": [
    "###testing my loaded model\n",
    "loaded_model_1.eval()\n",
    "\n",
    "with torch.inference_mode():\n",
    "    y_test_preds = loaded_model_1(x_test)\n",
    "\n",
    "y_test_preds == y_preds\n"
   ]
  },
  {
   "cell_type": "code",
   "execution_count": null,
   "metadata": {},
   "outputs": [],
   "source": []
  }
 ],
 "metadata": {
  "kernelspec": {
   "display_name": "Python 3.10.2 64-bit",
   "language": "python",
   "name": "python3"
  },
  "language_info": {
   "codemirror_mode": {
    "name": "ipython",
    "version": 3
   },
   "file_extension": ".py",
   "mimetype": "text/x-python",
   "name": "python",
   "nbconvert_exporter": "python",
   "pygments_lexer": "ipython3",
   "version": "3.10.2"
  },
  "orig_nbformat": 4,
  "vscode": {
   "interpreter": {
    "hash": "61b64fdf340dd4dcb83d9f0d8994a49c4a1442336d2c73dd1f85f0966d40bb2d"
   }
  }
 },
 "nbformat": 4,
 "nbformat_minor": 2
}
